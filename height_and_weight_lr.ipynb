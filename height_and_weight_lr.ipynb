{
  "nbformat": 4,
  "nbformat_minor": 0,
  "metadata": {
    "colab": {
      "name": "height_and_weight_lr.ipynb",
      "provenance": [],
      "collapsed_sections": []
    },
    "kernelspec": {
      "name": "python3",
      "display_name": "Python 3"
    },
    "language_info": {
      "name": "python"
    }
  },
  "cells": [
    {
      "cell_type": "code",
      "execution_count": null,
      "metadata": {
        "colab": {
          "base_uri": "https://localhost:8080/",
          "height": 282
        },
        "id": "Cs_SSYDLFO7P",
        "outputId": "b0125d34-1487-425f-f263-653ca1442d54"
      },
      "outputs": [
        {
          "output_type": "execute_result",
          "data": {
            "text/plain": [
              "[<matplotlib.lines.Line2D at 0x7fc7f8757110>]"
            ]
          },
          "metadata": {},
          "execution_count": 37
        },
        {
          "output_type": "display_data",
          "data": {
            "image/png": "[encoded data removed]",
            "text/plain": [
              "<Figure size 432x288 with 1 Axes>"
            ]
          },
          "metadata": {
            "needs_background": "light"
          }
        }
      ],
      "source": [
        "import numpy as np\n",
        "import pandas as pd\n",
        "import torch\n",
        "import torch.nn as nn\n",
        "import matplotlib.pyplot as plt\n",
        "from sklearn import datasets\n",
        "\n",
        "\n",
        "d = pd.read_csv('/content/height_and_weight_lr.csv')\n",
        "data = d.to_numpy()\n",
        "Data = np.delete(data, slice(14,2),1)\n",
        "x_numpy = Data[:,0]\n",
        "y_numpy = Data[:,1]\n",
        "x_ = torch.from_numpy(x_numpy.astype(np.float32))\n",
        "y_ = torch.from_numpy(y_numpy.astype(np.float32))\n",
        "x = x_.view(x_.shape[0],1)\n",
        "y = y_.view(y_.shape[0],1)\n",
        "\n",
        "n_samples,n_features = x.shape\n",
        "input_size = n_features\n",
        "output_size = n_features\n",
        "model = nn.Linear(input_size,output_size)\n",
        "\n",
        "criterion = nn.MSELoss()\n",
        "learning_rate = 0.1\n",
        "optimiser = torch.optim.SGD(model.parameters(),lr=learning_rate)\n",
        "\n",
        "num_epoch = 2000\n",
        "for epoch in range(num_epoch):\n",
        "  y_predicted = model(x)\n",
        "  loss = criterion(y_predicted,y)\n",
        "  loss.backward()\n",
        "  optimiser.step()\n",
        "  optimiser.zero_grad()\n",
        "  if epoch + 1 % 10 == 0:\n",
        "    print(f'epoch:{epoch + 1}')\n",
        "\n",
        "\n",
        "predicted = model(x).detach().numpy()\n",
        "plt.plot(x_numpy,y_numpy,'ro')\n",
        "plt.plot(x_numpy,predicted,'b')\n",
        "\n"
      ]
    }
  ]
}