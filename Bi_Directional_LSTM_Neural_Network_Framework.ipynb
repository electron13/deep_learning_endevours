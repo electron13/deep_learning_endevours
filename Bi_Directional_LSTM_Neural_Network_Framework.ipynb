{
  "nbformat": 4,
  "nbformat_minor": 0,
  "metadata": {
    "colab": {
      "name": "Bi_Directional_LSTM_Neural_Network_Framework.ipynb",
      "provenance": []
    },
    "kernelspec": {
      "name": "python3",
      "display_name": "Python 3"
    },
    "language_info": {
      "name": "python"
    }
  },
  "cells": [
    {
      "cell_type": "code",
      "source": [
        "input_size = 100\n",
        "sequence_length = x_train.shape[0]\n",
        "hidden_size = 256\n",
        "num_layers = 2\n",
        "num_classes = 4\n",
        "\n",
        "\n",
        "class BDNN(nn.Module):\n",
        "  def __init__(self,input_size,hidden_size,num_layers,num_classes):\n",
        "    super(BDNN, self).__init__()\n",
        "    self.hidden_size = hidden_size\n",
        "    self.num_layers = num_layers\n",
        "    self.lstm = nn.LSTM(input_size,hidden_size,num_layers,batch_first=True,bidirectional=True)\n",
        "    self.fc = nn.Linear(hidden_size*2,num_classes)\n",
        "\n",
        "  def forward(self,x):\n",
        "    h0 = torch.zeros(self.num_layers*2,x_train.size(0),self.hidden_size).to(device)\n",
        "    c0 = torch.zeros(self.num_layers*2,x_train.size(0),self.hidden_size).to(device)\n",
        "    out,_ = self.lstm(x_train ,(h0,c0))\n",
        "    out = self.fc(out[:,-1,:])\n",
        "    return out\n",
        "\n",
        "model = BDNN(input_size,hidden_size,num_layers,num_classes)\n",
        "criterion = nn.CrossEntropyLoss()\n",
        "learning_rate = 0.001\n",
        "optimiser = torch.optim.Adam(model.parameters(),lr=learning_rate)\n",
        "iterations = 10\n",
        "model.to(device)\n",
        "\n",
        "for epoch in range(iterations+1):\n",
        "  y_predicted = model(x)\n",
        "  loss = criterion(y_predicted,y)\n",
        "  loss.backward()\n",
        "  optimiser.step()\n",
        "  print('epoch: ' , epoch)\n",
        "  if epoch == iterations:\n",
        "    print('Training Complete')\n",
        "\n",
        "torch.save(model,'/content/model')"
      ],
      "metadata": {
        "id": "5QxShbEGDriI",
        "colab": {
          "base_uri": "https://localhost:8080/",
          "height": 380
        },
        "outputId": "5e33c3f6-6a1a-4fac-c4a2-bbada3ca3286"
      },
      "execution_count": null,
      "outputs": [
        
        
            
          ]
        }
      ]
    }
  ]
}
