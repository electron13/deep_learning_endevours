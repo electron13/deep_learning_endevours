{
  "cells": [
    {
      "cell_type": "code",
      "execution_count": 5,
      "metadata": {
        "id": "SQP4LXIB45Ro"
      },
      "outputs": [],
      "source": [
        "import torch\n",
        "import os\n",
        "from skimage import io\n",
        "from scipy import misc\n",
        "import matplotlib as mpl\n",
        "import pandas as pd\n",
        "from torch.utils.data import Dataset\n",
        "\n",
        "\n",
        "class ImageRec(Dataset):\n",
        "\n",
        "  def __init__(self,csv_file,dir,transform=None):\n",
        "    self.csv_file = csv_file\n",
        "    self.dir = dir\n",
        "    self.transform = transform\n",
        "\n",
        "  def __len__(self):\n",
        "    return(self.annotations)\n",
        "\n",
        "  def __getitem__(self,index):\n",
        "    img_path = os.path.join(self.dir,self.annotations.iloc[index,0])\n",
        "    img = io.imread(img_path)\n",
        "    y_label = torch.tensor(int(index.annotations.iloc[index,1]))\n",
        "    if self.transform:\n",
        "      img = self.transform(img)\n",
        "    \n",
        "    return (img,y_label)\n",
        "\n",
        "\n"
      ]
    },
    {
      "cell_type": "code",
      "execution_count": 9,
      "metadata": {
        "colab": {
          "base_uri": "https://localhost:8080/",
          "height": 135
        },
        "id": "QI1crOFJU3nq",
        "outputId": "ed9702e6-6a06-4105-fba5-0fc970bc5633"
      },
      "outputs": [
        {
          "ename": "SyntaxError",
          "evalue": "(unicode error) 'unicodeescape' codec can't decode bytes in position 2-3: truncated \\UXXXXXXXX escape (3857216170.py, line 7)",
          "output_type": "error",
          "traceback": [
            "\u001b[1;36m  Input \u001b[1;32mIn [9]\u001b[1;36m\u001b[0m\n\u001b[1;33m    file_path = 'C:\\Users\\Ashwin\\Downloads\\seg_train\\seg_train'\u001b[0m\n\u001b[1;37m                                                               ^\u001b[0m\n\u001b[1;31mSyntaxError\u001b[0m\u001b[1;31m:\u001b[0m (unicode error) 'unicodeescape' codec can't decode bytes in position 2-3: truncated \\UXXXXXXXX escape\n"
          ]
        }
      ],
      "source": [
        "import torch\n",
        "import os\n",
        "import matplotlib.pyplot as plt\n",
        "import pandas as pd\n",
        "import cv2\n",
        "\n",
        "file_path = 'C:\\Users\\Ashwin\\Downloads\\seg_train\\seg_train'\n",
        "types = ['forest','glacier','mountain','sea','street']\n",
        "for category in types:\n",
        "  path = os.path.join(file_path,category)\n",
        "  for img in os.listdir(path):\n",
        "    img_array = cv2.imread(os.path.join(path,img), cv2.IMREAD_GREYSCALE)\n",
        "\n",
        "print(img_array)"
      ]
    },
    {
      "cell_type": "code",
      "execution_count": 7,
      "metadata": {
        "colab": {
          "base_uri": "https://localhost:8080/",
          "height": 263
        },
        "id": "twnNYf8m_ef2",
        "outputId": "9940bc79-1696-46ae-e065-6d3620cf3593"
      },
      "outputs": [
        {
          "name": "stdout",
          "output_type": "stream",
          "text": [
            "<__main__.ImageRec object at 0x7f3746642cd0>\n"
          ]
        },
        {
          "ename": "NameError",
          "evalue": "ignored",
          "output_type": "error",
          "traceback": [
            "\u001b[0;31m---------------------------------------------------------------------------\u001b[0m",
            "\u001b[0;31mNameError\u001b[0m                                 Traceback (most recent call last)",
            "\u001b[0;32m<ipython-input-7-847e888e9568>\u001b[0m in \u001b[0;36m<module>\u001b[0;34m()\u001b[0m\n\u001b[1;32m     12\u001b[0m \u001b[0mdata\u001b[0m \u001b[0;34m=\u001b[0m \u001b[0mImageRec\u001b[0m\u001b[0;34m(\u001b[0m\u001b[0mcsv_file\u001b[0m\u001b[0;34m=\u001b[0m\u001b[0;34m'ImageRecognitionClassifier.csv'\u001b[0m\u001b[0;34m,\u001b[0m\u001b[0mdir\u001b[0m\u001b[0;34m=\u001b[0m\u001b[0;34m'/content/ImageRecognitionClassifier - Sheet1.csv'\u001b[0m\u001b[0;34m,\u001b[0m\u001b[0mtransform\u001b[0m\u001b[0;34m=\u001b[0m\u001b[0mtransforms\u001b[0m\u001b[0;34m.\u001b[0m\u001b[0mToTensor\u001b[0m\u001b[0;34m(\u001b[0m\u001b[0;34m)\u001b[0m\u001b[0;34m)\u001b[0m\u001b[0;34m\u001b[0m\u001b[0;34m\u001b[0m\u001b[0m\n\u001b[1;32m     13\u001b[0m \u001b[0mprint\u001b[0m\u001b[0;34m(\u001b[0m\u001b[0mdata\u001b[0m\u001b[0;34m)\u001b[0m\u001b[0;34m\u001b[0m\u001b[0;34m\u001b[0m\u001b[0m\n\u001b[0;32m---> 14\u001b[0;31m \u001b[0mx_train\u001b[0m\u001b[0;34m,\u001b[0m\u001b[0mx_test\u001b[0m\u001b[0;34m,\u001b[0m\u001b[0my_train\u001b[0m\u001b[0;34m,\u001b[0m\u001b[0my_test\u001b[0m \u001b[0;34m=\u001b[0m \u001b[0mtrain_test_split\u001b[0m\u001b[0;34m(\u001b[0m\u001b[0mx\u001b[0m\u001b[0;34m,\u001b[0m\u001b[0my\u001b[0m\u001b[0;34m,\u001b[0m\u001b[0mtest_size\u001b[0m\u001b[0;34m=\u001b[0m\u001b[0;36m0.2\u001b[0m\u001b[0;34m,\u001b[0m\u001b[0mrandom_state\u001b[0m\u001b[0;34m=\u001b[0m\u001b[0;36m4321\u001b[0m\u001b[0;34m)\u001b[0m\u001b[0;34m\u001b[0m\u001b[0;34m\u001b[0m\u001b[0m\n\u001b[0m\u001b[1;32m     15\u001b[0m \u001b[0;34m\u001b[0m\u001b[0m\n\u001b[1;32m     16\u001b[0m \u001b[0;32mclass\u001b[0m \u001b[0mNeuralNetwork\u001b[0m\u001b[0;34m(\u001b[0m\u001b[0mnn\u001b[0m\u001b[0;34m.\u001b[0m\u001b[0mModule\u001b[0m\u001b[0;34m)\u001b[0m\u001b[0;34m:\u001b[0m\u001b[0;34m\u001b[0m\u001b[0;34m\u001b[0m\u001b[0m\n",
            "\u001b[0;31mNameError\u001b[0m: name 'x' is not defined"
          ]
        }
      ],
      "source": [
        "import torch\n",
        "from torch.utils.data import Dataset\n",
        "import torch.nn as nn\n",
        "import torchvision.transforms as transforms\n",
        "import numpy as np\n",
        "import pandas as pd\n",
        "from sklearn.model_selection import train_test_split\n",
        "import matplotlib as mpl\n",
        "import random\n",
        "\n",
        "device = torch.device(\"cuda:0\" if torch.cuda.is_available() else \"cpu\")\n",
        "data = ImageRec(csv_file='ImageRecognitionClassifier.csv',dir='/content/ImageRecognitionClassifier - Sheet1.csv',transform=transforms.ToTensor())\n",
        "print(data)\n",
        "x_train,x_test,y_train,y_test = train_test_split(x,y,test_size=0.2,random_state=4321)\n",
        "\n",
        "class NeuralNetwork(nn.Module):\n",
        "  def __init__(self,n_input,n_hidden_1,n_hidden_2,n_output):\n",
        "    super(NeuralNetwork,self).__init__()\n",
        "    self.l1 = nn.Linear(n_input,n_hidden_1)\n",
        "    self.softmax = nn.Softmax()\n",
        "    self.l2 = nn.Linear(n_hidden_1,n_hidden_2)\n",
        "    self.l3 = nn.Linear(n_hidden_2,n_output)\n",
        "\n",
        "  def forward(self,x):\n",
        "    out = self.l1(x)\n",
        "    out = self.softmax(out)\n",
        "    out = self.l2(out)\n",
        "    out = self.softmax(out)\n",
        "    out = self.l3(out)\n",
        "    out = self.softmax(out)\n",
        "    return out\n",
        "\n",
        "input_features = 22500\n",
        "hidden_feature_1 = 128\n",
        "hidden_feature_2 = 128\n",
        "output_features = 5\n",
        "model = NeuralNetwork(input_features,hidden_feature_1,hidden_feature_2,output_features)\n",
        "criterion = nn.CrossEntropyLoss()\n",
        "learning_rate = 0.005\n",
        "optimiser = torch.optim.Adam(model.parameters(),lr=learning_rate)\n",
        "iterations = 10000\n",
        "\n",
        "for epoch in range(iterations):\n",
        "  y_predicted = model(x_train)\n",
        "  loss = criterion(y_predicted,y_train)\n",
        "  loss.backward()\n",
        "  optimiser.step()\n",
        "  print('epoch: ' and epoch)\n",
        "  if epoch == iterations:\n",
        "    print('Training Complete')"
      ]
    }
  ],
  "metadata": {
    "colab": {
      "name": "ImageDetectionClassifier.ipynb",
      "provenance": []
    },
    "interpreter": {
      "hash": "16e01804dbd5f5279f88ab3fdfcb67220b2d3316ae6a16bb41211ce130b62b6b"
    },
    "kernelspec": {
      "display_name": "Python 3.10.4 64-bit (windows store)",
      "language": "python",
      "name": "python3"
    },
    "language_info": {
      "codemirror_mode": {
        "name": "ipython",
        "version": 3
      },
      "file_extension": ".py",
      "mimetype": "text/x-python",
      "name": "python",
      "nbconvert_exporter": "python",
      "pygments_lexer": "ipython3",
      "version": "3.10.4"
    }
  },
  "nbformat": 4,
  "nbformat_minor": 0
}
